{
 "cells": [
  {
   "cell_type": "markdown",
   "id": "dad3b2b5",
   "metadata": {},
   "source": [
    "# # DS 230: Homework 3\n",
    "\n",
    "### Due: 4/15/2022\n",
    "\n",
    "You are encouraged to work on this with other students, but the final submitted document should be wholly your own.  That means no electronic sharing of files, code, or information.  Everything should be originally typed by *you*.\n",
    "\n",
    "---"
   ]
  },
  {
   "cell_type": "markdown",
   "id": "3bb52a1d-ec45-4cea-ab49-618d3804a0f3",
   "metadata": {},
   "source": [
    "## Andy Zheng"
   ]
  },
  {
   "cell_type": "markdown",
   "id": "cf4cb0b2",
   "metadata": {},
   "source": [
    "## Question 1"
   ]
  },
  {
   "cell_type": "markdown",
   "id": "4c409ec1",
   "metadata": {},
   "source": [
    "Run the following code, and then explain why only the second invocation of\n",
    "match results in a match.\n"
   ]
  },
  {
   "cell_type": "code",
   "execution_count": 2,
   "id": "4afbbf65",
   "metadata": {},
   "outputs": [
    {
     "name": "stdout",
     "output_type": "stream",
     "text": [
      "None\n",
      "<re.Match object; span=(0, 5), match='From '>\n"
     ]
    }
   ],
   "source": [
    "import re\n",
    "print(re.match(r'From\\s+', 'Fromage is delicious'))\n",
    "print(re.match(r'From\\s+', 'From Russia with Love'))"
   ]
  },
  {
   "cell_type": "markdown",
   "id": "f2bd81b0-1c42-4cf8-88bb-35f89d7c391f",
   "metadata": {},
   "source": [
    "The second invocation matches the following works becasue the \\s+ means that any white space one or more  from the FROM. The first sentence there is no white space in the right of From so that meaning that is why it return none for the first sentence. "
   ]
  },
  {
   "cell_type": "code",
   "execution_count": null,
   "id": "7e61c1fc",
   "metadata": {},
   "outputs": [],
   "source": []
  },
  {
   "cell_type": "markdown",
   "id": "e1669d6c",
   "metadata": {},
   "source": [
    "## Question 2"
   ]
  },
  {
   "cell_type": "markdown",
   "id": "e913b6fa",
   "metadata": {},
   "source": [
    "Run the following code, and then explain the difference between what\n",
    "findall and finditer return.\n"
   ]
  },
  {
   "cell_type": "code",
   "execution_count": 3,
   "id": "2ae32de7",
   "metadata": {},
   "outputs": [
    {
     "name": "stdout",
     "output_type": "stream",
     "text": [
      "['13', '17', '11', '10', '19', '97']\n",
      "<callable_iterator object at 0x7f7f31adb8e0>\n"
     ]
    }
   ],
   "source": [
    "import re\n",
    "print(re.findall('\\d{2}', 'An amazing thing happened Thursday May 13 at 17:11:10 1997'))\n",
    "print(re.finditer('\\d{2}', 'An amazing thing happened Thursday May 13 at 17:11:10 1997'))"
   ]
  },
  {
   "cell_type": "markdown",
   "id": "9fdef3ee-2a1e-4a31-a503-b316d3d2b4cd",
   "metadata": {},
   "source": [
    "Findall finds all the matches in the given string. But finditer only finds the first one, returning an iterator with only one element."
   ]
  },
  {
   "cell_type": "code",
   "execution_count": null,
   "id": "5a80675e",
   "metadata": {},
   "outputs": [],
   "source": []
  },
  {
   "cell_type": "markdown",
   "id": "58c98665",
   "metadata": {},
   "source": [
    "## Question 3"
   ]
  },
  {
   "cell_type": "markdown",
   "id": "086b5257",
   "metadata": {},
   "source": [
    "With the following variable declaration:\n",
    "```python\n",
    "text = \"Say, is this for real?\"\n",
    "```\n",
    "\n",
    "Give an example of a pattern that would have a match using `re.match()`, and give an example of a pattern where `re.match()` would return None, but `re.search()` would find a match."
   ]
  },
  {
   "cell_type": "code",
   "execution_count": 5,
   "id": "516eb117",
   "metadata": {},
   "outputs": [
    {
     "name": "stdout",
     "output_type": "stream",
     "text": [
      "<re.Match object; span=(4, 7), match=' is'>\n"
     ]
    }
   ],
   "source": [
    "import re\n",
    "text = \"Say, is this for real?\"\n",
    "print(re.search(r'\\sis',text))"
   ]
  },
  {
   "cell_type": "code",
   "execution_count": 8,
   "id": "922c9cf4",
   "metadata": {},
   "outputs": [
    {
     "name": "stdout",
     "output_type": "stream",
     "text": [
      "None\n",
      "<re.Match object; span=(0, 7), match='Say, is'>\n"
     ]
    }
   ],
   "source": [
    "print(re.match(r'\\sis',text))\n",
    "print(re.match(r'Say,\\sis',text))"
   ]
  },
  {
   "cell_type": "markdown",
   "id": "1d347687",
   "metadata": {},
   "source": [
    "## Question 4"
   ]
  },
  {
   "cell_type": "markdown",
   "id": "60264ac8",
   "metadata": {},
   "source": [
    "Write a function\n",
    "```python\n",
    "findG(text)\n",
    "```\n",
    "that finds all instances of either 'grey' or 'gray' in text by setting the variable pattern to the appropriate regular expression pattern and using the re module."
   ]
  },
  {
   "cell_type": "code",
   "execution_count": 26,
   "id": "33b5ef49",
   "metadata": {},
   "outputs": [],
   "source": [
    "import re\n",
    "\n",
    "def findG(text):\n",
    "    A=re.findall(r'gr\\wy',text)\n",
    "    print(A)\n",
    "    \n",
    "    "
   ]
  },
  {
   "cell_type": "code",
   "execution_count": 27,
   "id": "75b28a9e",
   "metadata": {},
   "outputs": [
    {
     "name": "stdout",
     "output_type": "stream",
     "text": [
      "['grey', 'gray', 'grey']\n"
     ]
    }
   ],
   "source": [
    "findG(\"The grey cat is also a gray dog, Fuck the grey cat\")"
   ]
  },
  {
   "cell_type": "code",
   "execution_count": null,
   "id": "22d08064",
   "metadata": {},
   "outputs": [],
   "source": []
  },
  {
   "cell_type": "markdown",
   "id": "967f7247",
   "metadata": {},
   "source": [
    "## Question 5"
   ]
  },
  {
   "cell_type": "markdown",
   "id": "ef996a18",
   "metadata": {},
   "source": [
    "We discussed in class how a computer can have two endpoints in the network, if it has both a wireless card and a wired Ethernet interface. Does this mean that such a computer can act like a router and be an internal node in the network? Can a smart phone ever act like router? Explain."
   ]
  },
  {
   "cell_type": "markdown",
   "id": "65103fe7",
   "metadata": {},
   "source": [
    "> Yes, a computer can act like a router if it has the both the wireless card and the wired Ethernet interface, and it can also be an internal node in a network. A computer is the most common node in the network. Yes, a smart phone can act like a router since it has the capabilitys of router, when it has a data connection it can share that data with everybody else , (example a hotspot). "
   ]
  },
  {
   "cell_type": "markdown",
   "id": "5b0d19fc",
   "metadata": {},
   "source": [
    "## Question 6\n",
    "\n",
    "Discuss why we might limit the **packet size** transmitted over a network."
   ]
  },
  {
   "cell_type": "markdown",
   "id": "a34c8c30",
   "metadata": {},
   "source": [
    "> We might limit the packet size transmitting over a network because it slows down the speeds, we are going to be sending multiple packets, to get the information we need. When if we send one big packet ignoring the packet size, we would monopolize the circuit path making other people unable to get information also. This would slow down the process of us getting the information also. We break up the packet into little parts so that we can share the circuit with other packets."
   ]
  },
  {
   "cell_type": "markdown",
   "id": "0f8389de",
   "metadata": {},
   "source": [
    "## Question 7"
   ]
  },
  {
   "cell_type": "markdown",
   "id": "e2497a13",
   "metadata": {},
   "source": [
    "The requests module uses URLs as the first argument to its HTTP method functions, but we often start with the “piece parts” of the information contained in a URL. Write a function\n",
    "```python\n",
    "buildURL(resource, location, protocol=’http’)\n",
    "```\n",
    "that returns a string URL based on the three component parts of 1) protocol, 2) location, and 3) resource. \n",
    "\n",
    "Your function should be flexible, so that if a user omits a leading '\\' on the resource path, one is prepended. Using fstrings or the string method format() is the right tool for the job here."
   ]
  },
  {
   "cell_type": "code",
   "execution_count": 5,
   "id": "72a6b5ac-b08e-40dc-90f5-198287a85a3e",
   "metadata": {},
   "outputs": [],
   "source": [
    "resource = \"STUFF\""
   ]
  },
  {
   "cell_type": "code",
   "execution_count": 6,
   "id": "4a2b2013-0046-4c71-a004-0dc72d9db31f",
   "metadata": {},
   "outputs": [
    {
     "data": {
      "text/plain": [
       "'STUFF'"
      ]
     },
     "execution_count": 6,
     "metadata": {},
     "output_type": "execute_result"
    }
   ],
   "source": [
    "resource"
   ]
  },
  {
   "cell_type": "code",
   "execution_count": 14,
   "id": "4c4647f6",
   "metadata": {},
   "outputs": [],
   "source": [
    "def buildURL(location,resource=\"\", protocol=\"http\"):\n",
    "    if resource == \"\":\n",
    "        print (f\"{protocol:s}://{location}.com/\")\n",
    "    else:\n",
    "        print(f\"{protocol}://{location}/{resource}\")\n",
    "    \n",
    "\n",
    "\n",
    "\n"
   ]
  },
  {
   "cell_type": "code",
   "execution_count": 18,
   "id": "9d237da5",
   "metadata": {},
   "outputs": [
    {
     "name": "stdout",
     "output_type": "stream",
     "text": [
      "http://google.com/main\n"
     ]
    }
   ],
   "source": [
    "buildURL(\"google.com\",\"main\")"
   ]
  },
  {
   "cell_type": "code",
   "execution_count": 17,
   "id": "e9f4a541",
   "metadata": {},
   "outputs": [
    {
     "name": "stdout",
     "output_type": "stream",
     "text": [
      "http://google.com.com/\n"
     ]
    }
   ],
   "source": []
  },
  {
   "cell_type": "markdown",
   "id": "43c59da3",
   "metadata": {},
   "source": [
    "## Question 8"
   ]
  },
  {
   "cell_type": "markdown",
   "id": "d4861c75",
   "metadata": {},
   "source": [
    "\n",
    "You have probably had the experience before of trying to open a web page, and having a redirect page pop up, telling you that the page has moved and asking if you want to be redirected. The same thing can happen when we write code to make requests. Write a function: \n",
    "\n",
    "```python\n",
    "getRedirectURL(resource, location)\n",
    "```\n",
    "import mysocket as s\n",
    "that does not allow redirects when invoking `get`. This function will return a url. If the get results in a success status code (one in the 200’s), you return the original url (obtained from your `buildURL`, with http protocol). If you detect that `get` tried to redirect (by looking for a 300, 301, or 302 status code), search within the headers to find the *Location* it tried to redirect to, and return **that** URL instead. If you get any other status code, return None."
   ]
  },
  {
   "cell_type": "code",
   "execution_count": 2,
   "id": "4abd16e8-4578-421a-b226-f9236bc15544",
   "metadata": {},
   "outputs": [],
   "source": [
    "import requests\n",
    "def getRedirectURL(resource, location):\n",
    "    reply = requests.get(f\"http://{location}/{resource}\")\n",
    "    if 200 <= reply.status_code <=299:\n",
    "        print(buildURL(resource,location))\n",
    "    elif reply.status_code in[301,302,300]:\n",
    "        Url = \"https://\"\n",
    "        r = requests.get( Url )\n",
    "        print (r)\n",
    "    else:\n",
    "        print(\"None\")\n",
    "        \n",
    "    \n",
    "     \n",
    "   \n",
    "   \n",
    "                         \n",
    "    \n",
    "    "
   ]
  },
  {
   "cell_type": "code",
   "execution_count": 3,
   "id": "5b0a9027",
   "metadata": {},
   "outputs": [
    {
     "name": "stdout",
     "output_type": "stream",
     "text": [
      "None\n"
     ]
    }
   ],
   "source": [
    "getRedirectURL(\"index.php\", \"www.example.org\")"
   ]
  },
  {
   "cell_type": "code",
   "execution_count": null,
   "id": "92702678",
   "metadata": {},
   "outputs": [],
   "source": []
  },
  {
   "cell_type": "code",
   "execution_count": null,
   "id": "78965640-7c1c-49fa-bd5a-3fb438de47d2",
   "metadata": {},
   "outputs": [],
   "source": []
  },
  {
   "cell_type": "code",
   "execution_count": 3,
   "id": "ba0dd2da-7e9e-43d1-9a52-4402a08fb2c1",
   "metadata": {},
   "outputs": [],
   "source": [
    "reply = requests.get(\"http://www.httpstat.us/301\")"
   ]
  },
  {
   "cell_type": "code",
   "execution_count": 4,
   "id": "4c132bbf-e7c7-45aa-8730-f8df64cfb21d",
   "metadata": {},
   "outputs": [
    {
     "data": {
      "text/plain": [
       "200"
      ]
     },
     "execution_count": 4,
     "metadata": {},
     "output_type": "execute_result"
    }
   ],
   "source": [
    "reply.status_code"
   ]
  },
  {
   "cell_type": "code",
   "execution_count": 98,
   "id": "c235af86-a602-403b-8ee0-08b11209c0b7",
   "metadata": {},
   "outputs": [
    {
     "ename": "MissingSchema",
     "evalue": "Invalid URL 'www.matthewedgar.net': No schema supplied. Perhaps you meant http://www.matthewedgar.net?",
     "output_type": "error",
     "traceback": [
      "\u001b[0;31m---------------------------------------------------------------------------\u001b[0m",
      "\u001b[0;31mMissingSchema\u001b[0m                             Traceback (most recent call last)",
      "\u001b[0;32m/var/folders/3x/k50schqn2rbcpwps9l0_tq1c0000gn/T/ipykernel_34838/559198841.py\u001b[0m in \u001b[0;36m<module>\u001b[0;34m\u001b[0m\n\u001b[0;32m----> 1\u001b[0;31m \u001b[0mFreply\u001b[0m \u001b[0;34m=\u001b[0m \u001b[0mrequests\u001b[0m\u001b[0;34m.\u001b[0m\u001b[0mget\u001b[0m\u001b[0;34m(\u001b[0m\u001b[0;34m\"www.matthewedgar.net\"\u001b[0m\u001b[0;34m)\u001b[0m\u001b[0;34m\u001b[0m\u001b[0;34m\u001b[0m\u001b[0m\n\u001b[0m",
      "\u001b[0;32m~/opt/anaconda3/lib/python3.9/site-packages/requests/api.py\u001b[0m in \u001b[0;36mget\u001b[0;34m(url, params, **kwargs)\u001b[0m\n\u001b[1;32m     73\u001b[0m     \"\"\"\n\u001b[1;32m     74\u001b[0m \u001b[0;34m\u001b[0m\u001b[0m\n\u001b[0;32m---> 75\u001b[0;31m     \u001b[0;32mreturn\u001b[0m \u001b[0mrequest\u001b[0m\u001b[0;34m(\u001b[0m\u001b[0;34m'get'\u001b[0m\u001b[0;34m,\u001b[0m \u001b[0murl\u001b[0m\u001b[0;34m,\u001b[0m \u001b[0mparams\u001b[0m\u001b[0;34m=\u001b[0m\u001b[0mparams\u001b[0m\u001b[0;34m,\u001b[0m \u001b[0;34m**\u001b[0m\u001b[0mkwargs\u001b[0m\u001b[0;34m)\u001b[0m\u001b[0;34m\u001b[0m\u001b[0;34m\u001b[0m\u001b[0m\n\u001b[0m\u001b[1;32m     76\u001b[0m \u001b[0;34m\u001b[0m\u001b[0m\n\u001b[1;32m     77\u001b[0m \u001b[0;34m\u001b[0m\u001b[0m\n",
      "\u001b[0;32m~/opt/anaconda3/lib/python3.9/site-packages/requests/api.py\u001b[0m in \u001b[0;36mrequest\u001b[0;34m(method, url, **kwargs)\u001b[0m\n\u001b[1;32m     59\u001b[0m     \u001b[0;31m# cases, and look like a memory leak in others.\u001b[0m\u001b[0;34m\u001b[0m\u001b[0;34m\u001b[0m\u001b[0m\n\u001b[1;32m     60\u001b[0m     \u001b[0;32mwith\u001b[0m \u001b[0msessions\u001b[0m\u001b[0;34m.\u001b[0m\u001b[0mSession\u001b[0m\u001b[0;34m(\u001b[0m\u001b[0;34m)\u001b[0m \u001b[0;32mas\u001b[0m \u001b[0msession\u001b[0m\u001b[0;34m:\u001b[0m\u001b[0;34m\u001b[0m\u001b[0;34m\u001b[0m\u001b[0m\n\u001b[0;32m---> 61\u001b[0;31m         \u001b[0;32mreturn\u001b[0m \u001b[0msession\u001b[0m\u001b[0;34m.\u001b[0m\u001b[0mrequest\u001b[0m\u001b[0;34m(\u001b[0m\u001b[0mmethod\u001b[0m\u001b[0;34m=\u001b[0m\u001b[0mmethod\u001b[0m\u001b[0;34m,\u001b[0m \u001b[0murl\u001b[0m\u001b[0;34m=\u001b[0m\u001b[0murl\u001b[0m\u001b[0;34m,\u001b[0m \u001b[0;34m**\u001b[0m\u001b[0mkwargs\u001b[0m\u001b[0;34m)\u001b[0m\u001b[0;34m\u001b[0m\u001b[0;34m\u001b[0m\u001b[0m\n\u001b[0m\u001b[1;32m     62\u001b[0m \u001b[0;34m\u001b[0m\u001b[0m\n\u001b[1;32m     63\u001b[0m \u001b[0;34m\u001b[0m\u001b[0m\n",
      "\u001b[0;32m~/opt/anaconda3/lib/python3.9/site-packages/requests/sessions.py\u001b[0m in \u001b[0;36mrequest\u001b[0;34m(self, method, url, params, data, headers, cookies, files, auth, timeout, allow_redirects, proxies, hooks, stream, verify, cert, json)\u001b[0m\n\u001b[1;32m    526\u001b[0m             \u001b[0mhooks\u001b[0m\u001b[0;34m=\u001b[0m\u001b[0mhooks\u001b[0m\u001b[0;34m,\u001b[0m\u001b[0;34m\u001b[0m\u001b[0;34m\u001b[0m\u001b[0m\n\u001b[1;32m    527\u001b[0m         )\n\u001b[0;32m--> 528\u001b[0;31m         \u001b[0mprep\u001b[0m \u001b[0;34m=\u001b[0m \u001b[0mself\u001b[0m\u001b[0;34m.\u001b[0m\u001b[0mprepare_request\u001b[0m\u001b[0;34m(\u001b[0m\u001b[0mreq\u001b[0m\u001b[0;34m)\u001b[0m\u001b[0;34m\u001b[0m\u001b[0;34m\u001b[0m\u001b[0m\n\u001b[0m\u001b[1;32m    529\u001b[0m \u001b[0;34m\u001b[0m\u001b[0m\n\u001b[1;32m    530\u001b[0m         \u001b[0mproxies\u001b[0m \u001b[0;34m=\u001b[0m \u001b[0mproxies\u001b[0m \u001b[0;32mor\u001b[0m \u001b[0;34m{\u001b[0m\u001b[0;34m}\u001b[0m\u001b[0;34m\u001b[0m\u001b[0;34m\u001b[0m\u001b[0m\n",
      "\u001b[0;32m~/opt/anaconda3/lib/python3.9/site-packages/requests/sessions.py\u001b[0m in \u001b[0;36mprepare_request\u001b[0;34m(self, request)\u001b[0m\n\u001b[1;32m    454\u001b[0m \u001b[0;34m\u001b[0m\u001b[0m\n\u001b[1;32m    455\u001b[0m         \u001b[0mp\u001b[0m \u001b[0;34m=\u001b[0m \u001b[0mPreparedRequest\u001b[0m\u001b[0;34m(\u001b[0m\u001b[0;34m)\u001b[0m\u001b[0;34m\u001b[0m\u001b[0;34m\u001b[0m\u001b[0m\n\u001b[0;32m--> 456\u001b[0;31m         p.prepare(\n\u001b[0m\u001b[1;32m    457\u001b[0m             \u001b[0mmethod\u001b[0m\u001b[0;34m=\u001b[0m\u001b[0mrequest\u001b[0m\u001b[0;34m.\u001b[0m\u001b[0mmethod\u001b[0m\u001b[0;34m.\u001b[0m\u001b[0mupper\u001b[0m\u001b[0;34m(\u001b[0m\u001b[0;34m)\u001b[0m\u001b[0;34m,\u001b[0m\u001b[0;34m\u001b[0m\u001b[0;34m\u001b[0m\u001b[0m\n\u001b[1;32m    458\u001b[0m             \u001b[0murl\u001b[0m\u001b[0;34m=\u001b[0m\u001b[0mrequest\u001b[0m\u001b[0;34m.\u001b[0m\u001b[0murl\u001b[0m\u001b[0;34m,\u001b[0m\u001b[0;34m\u001b[0m\u001b[0;34m\u001b[0m\u001b[0m\n",
      "\u001b[0;32m~/opt/anaconda3/lib/python3.9/site-packages/requests/models.py\u001b[0m in \u001b[0;36mprepare\u001b[0;34m(self, method, url, headers, files, data, params, auth, cookies, hooks, json)\u001b[0m\n\u001b[1;32m    314\u001b[0m \u001b[0;34m\u001b[0m\u001b[0m\n\u001b[1;32m    315\u001b[0m         \u001b[0mself\u001b[0m\u001b[0;34m.\u001b[0m\u001b[0mprepare_method\u001b[0m\u001b[0;34m(\u001b[0m\u001b[0mmethod\u001b[0m\u001b[0;34m)\u001b[0m\u001b[0;34m\u001b[0m\u001b[0;34m\u001b[0m\u001b[0m\n\u001b[0;32m--> 316\u001b[0;31m         \u001b[0mself\u001b[0m\u001b[0;34m.\u001b[0m\u001b[0mprepare_url\u001b[0m\u001b[0;34m(\u001b[0m\u001b[0murl\u001b[0m\u001b[0;34m,\u001b[0m \u001b[0mparams\u001b[0m\u001b[0;34m)\u001b[0m\u001b[0;34m\u001b[0m\u001b[0;34m\u001b[0m\u001b[0m\n\u001b[0m\u001b[1;32m    317\u001b[0m         \u001b[0mself\u001b[0m\u001b[0;34m.\u001b[0m\u001b[0mprepare_headers\u001b[0m\u001b[0;34m(\u001b[0m\u001b[0mheaders\u001b[0m\u001b[0;34m)\u001b[0m\u001b[0;34m\u001b[0m\u001b[0;34m\u001b[0m\u001b[0m\n\u001b[1;32m    318\u001b[0m         \u001b[0mself\u001b[0m\u001b[0;34m.\u001b[0m\u001b[0mprepare_cookies\u001b[0m\u001b[0;34m(\u001b[0m\u001b[0mcookies\u001b[0m\u001b[0;34m)\u001b[0m\u001b[0;34m\u001b[0m\u001b[0;34m\u001b[0m\u001b[0m\n",
      "\u001b[0;32m~/opt/anaconda3/lib/python3.9/site-packages/requests/models.py\u001b[0m in \u001b[0;36mprepare_url\u001b[0;34m(self, url, params)\u001b[0m\n\u001b[1;32m    388\u001b[0m             \u001b[0merror\u001b[0m \u001b[0;34m=\u001b[0m \u001b[0merror\u001b[0m\u001b[0;34m.\u001b[0m\u001b[0mformat\u001b[0m\u001b[0;34m(\u001b[0m\u001b[0mto_native_string\u001b[0m\u001b[0;34m(\u001b[0m\u001b[0murl\u001b[0m\u001b[0;34m,\u001b[0m \u001b[0;34m'utf8'\u001b[0m\u001b[0;34m)\u001b[0m\u001b[0;34m)\u001b[0m\u001b[0;34m\u001b[0m\u001b[0;34m\u001b[0m\u001b[0m\n\u001b[1;32m    389\u001b[0m \u001b[0;34m\u001b[0m\u001b[0m\n\u001b[0;32m--> 390\u001b[0;31m             \u001b[0;32mraise\u001b[0m \u001b[0mMissingSchema\u001b[0m\u001b[0;34m(\u001b[0m\u001b[0merror\u001b[0m\u001b[0;34m)\u001b[0m\u001b[0;34m\u001b[0m\u001b[0;34m\u001b[0m\u001b[0m\n\u001b[0m\u001b[1;32m    391\u001b[0m \u001b[0;34m\u001b[0m\u001b[0m\n\u001b[1;32m    392\u001b[0m         \u001b[0;32mif\u001b[0m \u001b[0;32mnot\u001b[0m \u001b[0mhost\u001b[0m\u001b[0;34m:\u001b[0m\u001b[0;34m\u001b[0m\u001b[0;34m\u001b[0m\u001b[0m\n",
      "\u001b[0;31mMissingSchema\u001b[0m: Invalid URL 'www.matthewedgar.net': No schema supplied. Perhaps you meant http://www.matthewedgar.net?"
     ]
    }
   ],
   "source": [
    "Freply = requests.get(\"www.matthewedgar.net\")"
   ]
  },
  {
   "cell_type": "code",
   "execution_count": 95,
   "id": "f84f6f5d-b952-43bb-bc3c-933b218873fc",
   "metadata": {},
   "outputs": [
    {
     "data": {
      "text/plain": [
       "<Response [200]>"
      ]
     },
     "execution_count": 95,
     "metadata": {},
     "output_type": "execute_result"
    }
   ],
   "source": [
    "Freply"
   ]
  },
  {
   "cell_type": "code",
   "execution_count": null,
   "id": "4191de21-1d10-421b-b268-7a6ddfd6631e",
   "metadata": {},
   "outputs": [],
   "source": []
  }
 ],
 "metadata": {
  "kernelspec": {
   "display_name": "Python 3 (ipykernel)",
   "language": "python",
   "name": "python3"
  },
  "language_info": {
   "codemirror_mode": {
    "name": "ipython",
    "version": 3
   },
   "file_extension": ".py",
   "mimetype": "text/x-python",
   "name": "python",
   "nbconvert_exporter": "python",
   "pygments_lexer": "ipython3",
   "version": "3.9.7"
  },
  "varInspector": {
   "cols": {
    "lenName": 16,
    "lenType": 16,
    "lenVar": 40
   },
   "kernels_config": {
    "python": {
     "delete_cmd_postfix": "",
     "delete_cmd_prefix": "del ",
     "library": "var_list.py",
     "varRefreshCmd": "print(var_dic_list())"
    },
    "r": {
     "delete_cmd_postfix": ") ",
     "delete_cmd_prefix": "rm(",
     "library": "var_list.r",
     "varRefreshCmd": "cat(var_dic_list()) "
    }
   },
   "types_to_exclude": [
    "module",
    "function",
    "builtin_function_or_method",
    "instance",
    "_Feature"
   ],
   "window_display": false
  }
 },
 "nbformat": 4,
 "nbformat_minor": 5
}
