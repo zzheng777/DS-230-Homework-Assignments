{
 "cells": [
  {
   "cell_type": "markdown",
   "id": "b84d10a4",
   "metadata": {},
   "source": [
    "# DS 230: Homework 1\n",
    "\n",
    "### Due: 1/28/2022\n",
    "\n",
    "You are encouraged to work on this with other students, but the final submitted document should be wholly your own.  That means no electronic sharing of files, code, or information.  Everything should be originally typed by *you*.\n",
    "\n",
    "---"
   ]
  },
  {
   "cell_type": "markdown",
   "id": "be33f10b",
   "metadata": {},
   "source": [
    "### Question 1\n",
    "\n",
    "Use comprehensions to shorten the following block of code.  Note: it should produce the same resulting output, so check to make sure you understand what it is producing."
   ]
  },
  {
   "cell_type": "code",
   "execution_count": 1,
   "id": "438820e1",
   "metadata": {},
   "outputs": [],
   "source": [
    "def my_long_loop(N):\n",
    "    my_list = []\n",
    "    for i in range(N,0,-1):\n",
    "        if (i > (N/2)) and (i%2 == 0):\n",
    "            my_list.append(i)\n",
    "    return my_list"
   ]
  },
  {
   "cell_type": "code",
   "execution_count": 2,
   "id": "198cd670",
   "metadata": {},
   "outputs": [
    {
     "data": {
      "text/plain": [
       "[20, 18, 16, 14, 12]"
      ]
     },
     "execution_count": 2,
     "metadata": {},
     "output_type": "execute_result"
    }
   ],
   "source": [
    "my_long_loop(20)\n"
   ]
  },
  {
   "cell_type": "code",
   "execution_count": 3,
   "id": "ca338df8",
   "metadata": {},
   "outputs": [
    {
     "data": {
      "text/plain": [
       "[20, 18, 16, 14, 12]"
      ]
     },
     "execution_count": 3,
     "metadata": {},
     "output_type": "execute_result"
    }
   ],
   "source": [
    "[i for i in range (20,10,-1) if (i > (20/2)) and (i%2 == 0)]"
   ]
  },
  {
   "cell_type": "markdown",
   "id": "4168d85f",
   "metadata": {},
   "source": [
    "### Question 2\n",
    "\n",
    "Use comprehensions to create a function that does the following:\n",
    "\n",
    "1. Takes as input a string with words.  \n",
    "    - Examples: \"Here is some awesomely sweet syllables.\"\n",
    "2. Saves the first letter of each word in the string.\n",
    "    - Should ignore all punctuation\n",
    "3. Capitalizes and concatenates them all together to form a new string."
   ]
  },
  {
   "cell_type": "code",
   "execution_count": 4,
   "id": "1cade0ce",
   "metadata": {},
   "outputs": [],
   "source": [
    "def my_abbreviator():\n",
    "    list_2=[]\n",
    "    sentence = input(\"Enter your sentence: \")\n",
    "    words = sentence.upper().split()\n",
    "    for letter in words :\n",
    "        list_2.append(letter[0])\n",
    "        \n",
    "    return(list_2)\n",
    "  \n",
    "    \n",
    "    "
   ]
  },
  {
   "cell_type": "code",
   "execution_count": 5,
   "id": "61cb7f1b",
   "metadata": {
    "scrolled": true
   },
   "outputs": [
    {
     "ename": "KeyboardInterrupt",
     "evalue": "Interrupted by user",
     "output_type": "error",
     "traceback": [
      "\u001b[0;31m---------------------------------------------------------------------------\u001b[0m",
      "\u001b[0;31mKeyboardInterrupt\u001b[0m                         Traceback (most recent call last)",
      "\u001b[0;32m/var/folders/3x/k50schqn2rbcpwps9l0_tq1c0000gn/T/ipykernel_17615/3124635303.py\u001b[0m in \u001b[0;36m<module>\u001b[0;34m\u001b[0m\n\u001b[0;32m----> 1\u001b[0;31m \u001b[0mmy_abbreviator\u001b[0m\u001b[0;34m(\u001b[0m\u001b[0;34m)\u001b[0m\u001b[0;34m\u001b[0m\u001b[0;34m\u001b[0m\u001b[0m\n\u001b[0m",
      "\u001b[0;32m/var/folders/3x/k50schqn2rbcpwps9l0_tq1c0000gn/T/ipykernel_17615/3566402729.py\u001b[0m in \u001b[0;36mmy_abbreviator\u001b[0;34m()\u001b[0m\n\u001b[1;32m      1\u001b[0m \u001b[0;32mdef\u001b[0m \u001b[0mmy_abbreviator\u001b[0m\u001b[0;34m(\u001b[0m\u001b[0;34m)\u001b[0m\u001b[0;34m:\u001b[0m\u001b[0;34m\u001b[0m\u001b[0;34m\u001b[0m\u001b[0m\n\u001b[1;32m      2\u001b[0m     \u001b[0mlist_2\u001b[0m\u001b[0;34m=\u001b[0m\u001b[0;34m[\u001b[0m\u001b[0;34m]\u001b[0m\u001b[0;34m\u001b[0m\u001b[0;34m\u001b[0m\u001b[0m\n\u001b[0;32m----> 3\u001b[0;31m     \u001b[0msentence\u001b[0m \u001b[0;34m=\u001b[0m \u001b[0minput\u001b[0m\u001b[0;34m(\u001b[0m\u001b[0;34m\"Enter your sentence: \"\u001b[0m\u001b[0;34m)\u001b[0m\u001b[0;34m\u001b[0m\u001b[0;34m\u001b[0m\u001b[0m\n\u001b[0m\u001b[1;32m      4\u001b[0m     \u001b[0mwords\u001b[0m \u001b[0;34m=\u001b[0m \u001b[0msentence\u001b[0m\u001b[0;34m.\u001b[0m\u001b[0mupper\u001b[0m\u001b[0;34m(\u001b[0m\u001b[0;34m)\u001b[0m\u001b[0;34m.\u001b[0m\u001b[0msplit\u001b[0m\u001b[0;34m(\u001b[0m\u001b[0;34m)\u001b[0m\u001b[0;34m\u001b[0m\u001b[0;34m\u001b[0m\u001b[0m\n\u001b[1;32m      5\u001b[0m     \u001b[0;32mfor\u001b[0m \u001b[0mletter\u001b[0m \u001b[0;32min\u001b[0m \u001b[0mwords\u001b[0m \u001b[0;34m:\u001b[0m\u001b[0;34m\u001b[0m\u001b[0;34m\u001b[0m\u001b[0m\n",
      "\u001b[0;32m~/opt/anaconda3/lib/python3.9/site-packages/ipykernel/kernelbase.py\u001b[0m in \u001b[0;36mraw_input\u001b[0;34m(self, prompt)\u001b[0m\n\u001b[1;32m   1004\u001b[0m                 \u001b[0;34m\"raw_input was called, but this frontend does not support input requests.\"\u001b[0m\u001b[0;34m\u001b[0m\u001b[0;34m\u001b[0m\u001b[0m\n\u001b[1;32m   1005\u001b[0m             )\n\u001b[0;32m-> 1006\u001b[0;31m         return self._input_request(\n\u001b[0m\u001b[1;32m   1007\u001b[0m             \u001b[0mstr\u001b[0m\u001b[0;34m(\u001b[0m\u001b[0mprompt\u001b[0m\u001b[0;34m)\u001b[0m\u001b[0;34m,\u001b[0m\u001b[0;34m\u001b[0m\u001b[0;34m\u001b[0m\u001b[0m\n\u001b[1;32m   1008\u001b[0m             \u001b[0mself\u001b[0m\u001b[0;34m.\u001b[0m\u001b[0m_parent_ident\u001b[0m\u001b[0;34m[\u001b[0m\u001b[0;34m\"shell\"\u001b[0m\u001b[0;34m]\u001b[0m\u001b[0;34m,\u001b[0m\u001b[0;34m\u001b[0m\u001b[0;34m\u001b[0m\u001b[0m\n",
      "\u001b[0;32m~/opt/anaconda3/lib/python3.9/site-packages/ipykernel/kernelbase.py\u001b[0m in \u001b[0;36m_input_request\u001b[0;34m(self, prompt, ident, parent, password)\u001b[0m\n\u001b[1;32m   1049\u001b[0m             \u001b[0;32mexcept\u001b[0m \u001b[0mKeyboardInterrupt\u001b[0m\u001b[0;34m:\u001b[0m\u001b[0;34m\u001b[0m\u001b[0;34m\u001b[0m\u001b[0m\n\u001b[1;32m   1050\u001b[0m                 \u001b[0;31m# re-raise KeyboardInterrupt, to truncate traceback\u001b[0m\u001b[0;34m\u001b[0m\u001b[0;34m\u001b[0m\u001b[0m\n\u001b[0;32m-> 1051\u001b[0;31m                 \u001b[0;32mraise\u001b[0m \u001b[0mKeyboardInterrupt\u001b[0m\u001b[0;34m(\u001b[0m\u001b[0;34m\"Interrupted by user\"\u001b[0m\u001b[0;34m)\u001b[0m \u001b[0;32mfrom\u001b[0m \u001b[0;32mNone\u001b[0m\u001b[0;34m\u001b[0m\u001b[0;34m\u001b[0m\u001b[0m\n\u001b[0m\u001b[1;32m   1052\u001b[0m             \u001b[0;32mexcept\u001b[0m \u001b[0mException\u001b[0m\u001b[0;34m:\u001b[0m\u001b[0;34m\u001b[0m\u001b[0;34m\u001b[0m\u001b[0m\n\u001b[1;32m   1053\u001b[0m                 \u001b[0mself\u001b[0m\u001b[0;34m.\u001b[0m\u001b[0mlog\u001b[0m\u001b[0;34m.\u001b[0m\u001b[0mwarning\u001b[0m\u001b[0;34m(\u001b[0m\u001b[0;34m\"Invalid Message:\"\u001b[0m\u001b[0;34m,\u001b[0m \u001b[0mexc_info\u001b[0m\u001b[0;34m=\u001b[0m\u001b[0;32mTrue\u001b[0m\u001b[0;34m)\u001b[0m\u001b[0;34m\u001b[0m\u001b[0;34m\u001b[0m\u001b[0m\n",
      "\u001b[0;31mKeyboardInterrupt\u001b[0m: Interrupted by user"
     ]
    }
   ],
   "source": [
    "my_abbreviator()"
   ]
  },
  {
   "cell_type": "code",
   "execution_count": null,
   "id": "1c5b0f10",
   "metadata": {},
   "outputs": [],
   "source": []
  },
  {
   "cell_type": "code",
   "execution_count": null,
   "id": "7cf6484f",
   "metadata": {},
   "outputs": [],
   "source": []
  },
  {
   "cell_type": "markdown",
   "id": "454006aa",
   "metadata": {},
   "source": [
    "### Question 3\n",
    "\n",
    "Write the Python commands required to accomplish the following directives.  Be sure to make sure you delete the directories while debugging and testing.\n",
    "1. Create a new folder in your current directory titled \"stuff_here\"\n",
    "2. In the \"stuff_here\" directory, create two new sub-directories titled \"thing1\" and \"thing2\"\n",
    "3. In the \"thing1\" directory, create a file that contains the words: \"Found me!\"\n",
    "4. In the \"thing2\" directory, create a file that contains the words: \"Not here!\"\n",
    "5. Return to your original working directory, if you are not already there."
   ]
  },
  {
   "cell_type": "code",
   "execution_count": 6,
   "id": "6aea7239",
   "metadata": {},
   "outputs": [],
   "source": [
    "import os"
   ]
  },
  {
   "cell_type": "code",
   "execution_count": 33,
   "id": "36ff1a6f",
   "metadata": {},
   "outputs": [
    {
     "data": {
      "text/plain": [
       "'/Users/andyzheng/DS 230'"
      ]
     },
     "execution_count": 33,
     "metadata": {},
     "output_type": "execute_result"
    }
   ],
   "source": [
    "os.getcwd()"
   ]
  },
  {
   "cell_type": "code",
   "execution_count": 34,
   "id": "1d2c4164",
   "metadata": {},
   "outputs": [],
   "source": [
    "mycwd=os.getcwd()"
   ]
  },
  {
   "cell_type": "code",
   "execution_count": 8,
   "id": "ecf72322",
   "metadata": {},
   "outputs": [],
   "source": [
    "os.mkdir(\"stuff_here\")"
   ]
  },
  {
   "cell_type": "code",
   "execution_count": 9,
   "id": "c55a8135",
   "metadata": {},
   "outputs": [],
   "source": [
    "os.chdir(\"/Users/andyzheng/DS 230/stuff_here\")\n"
   ]
  },
  {
   "cell_type": "code",
   "execution_count": 10,
   "id": "3d2c81bb",
   "metadata": {},
   "outputs": [
    {
     "data": {
      "text/plain": [
       "'/Users/andyzheng/DS 230/stuff_here'"
      ]
     },
     "execution_count": 10,
     "metadata": {},
     "output_type": "execute_result"
    }
   ],
   "source": [
    "os.getcwd()"
   ]
  },
  {
   "cell_type": "code",
   "execution_count": 12,
   "id": "c4809c44",
   "metadata": {},
   "outputs": [],
   "source": [
    "os.mkdir(\"thing1\")\n",
    "os.mkdir('thing2')"
   ]
  },
  {
   "cell_type": "code",
   "execution_count": 16,
   "id": "c6b17e99",
   "metadata": {},
   "outputs": [],
   "source": [
    "os.chdir(\"/Users/andyzheng/DS 230/stuff_here/thing1\")"
   ]
  },
  {
   "cell_type": "code",
   "execution_count": 17,
   "id": "ea7d7c42",
   "metadata": {},
   "outputs": [
    {
     "data": {
      "text/plain": [
       "'/Users/andyzheng/DS 230/stuff_here/thing1'"
      ]
     },
     "execution_count": 17,
     "metadata": {},
     "output_type": "execute_result"
    }
   ],
   "source": [
    "os.getcwd()"
   ]
  },
  {
   "cell_type": "code",
   "execution_count": 22,
   "id": "f05521e0",
   "metadata": {},
   "outputs": [
    {
     "name": "stdout",
     "output_type": "stream",
     "text": [
      "Creating File my_file!\n"
     ]
    }
   ],
   "source": [
    "my_file=\"my_file\"\n",
    "if not os.path.exists(my_file):\n",
    "    print(f'Creating File {my_file}!')\n",
    "    fid = open(my_file,\"w\") #\"w\" will delete anything that was previously there\n",
    "else:\n",
    "    print(f'The File{my_file} already exists!')"
   ]
  },
  {
   "cell_type": "code",
   "execution_count": 19,
   "id": "2a238bb8",
   "metadata": {},
   "outputs": [
    {
     "data": {
      "text/plain": [
       "9"
      ]
     },
     "execution_count": 19,
     "metadata": {},
     "output_type": "execute_result"
    }
   ],
   "source": [
    "fid.write(\"Found me!\")"
   ]
  },
  {
   "cell_type": "code",
   "execution_count": 20,
   "id": "df97950e",
   "metadata": {},
   "outputs": [],
   "source": [
    "fid.close()\n"
   ]
  },
  {
   "cell_type": "code",
   "execution_count": 21,
   "id": "cea4a3cf",
   "metadata": {},
   "outputs": [],
   "source": [
    "os.chdir(\"/Users/andyzheng/DS 230/stuff_here/thing2\")"
   ]
  },
  {
   "cell_type": "code",
   "execution_count": 23,
   "id": "fa810d9f",
   "metadata": {},
   "outputs": [
    {
     "name": "stdout",
     "output_type": "stream",
     "text": [
      "Creating File 2nd_File!\n"
     ]
    }
   ],
   "source": [
    "my_file=\"2nd_File\"\n",
    "if not os.path.exists(my_file):\n",
    "    print(f'Creating File {my_file}!')\n",
    "    fid = open(my_file,\"w\") #\"w\" will delete anything that was previously there\n",
    "else:\n",
    "    print(f'The File{my_file} already exists!')"
   ]
  },
  {
   "cell_type": "code",
   "execution_count": 24,
   "id": "cdb9c6d1",
   "metadata": {},
   "outputs": [
    {
     "data": {
      "text/plain": [
       "9"
      ]
     },
     "execution_count": 24,
     "metadata": {},
     "output_type": "execute_result"
    }
   ],
   "source": [
    "fid.write(\"Not here!\")"
   ]
  },
  {
   "cell_type": "code",
   "execution_count": 25,
   "id": "ee4788d6",
   "metadata": {},
   "outputs": [],
   "source": [
    "fid.close()"
   ]
  },
  {
   "cell_type": "code",
   "execution_count": 35,
   "id": "4eebd096",
   "metadata": {},
   "outputs": [],
   "source": [
    "os.chdir(mycwd)"
   ]
  },
  {
   "cell_type": "code",
   "execution_count": 36,
   "id": "e91c183d",
   "metadata": {},
   "outputs": [
    {
     "data": {
      "text/plain": [
       "'/Users/andyzheng/DS 230'"
      ]
     },
     "execution_count": 36,
     "metadata": {},
     "output_type": "execute_result"
    }
   ],
   "source": [
    "os.getcwd()"
   ]
  },
  {
   "cell_type": "code",
   "execution_count": null,
   "id": "b53df495",
   "metadata": {},
   "outputs": [],
   "source": []
  }
 ],
 "metadata": {
  "kernelspec": {
   "display_name": "Python 3 (ipykernel)",
   "language": "python",
   "name": "python3"
  },
  "language_info": {
   "codemirror_mode": {
    "name": "ipython",
    "version": 3
   },
   "file_extension": ".py",
   "mimetype": "text/x-python",
   "name": "python",
   "nbconvert_exporter": "python",
   "pygments_lexer": "ipython3",
   "version": "3.9.7"
  },
  "varInspector": {
   "cols": {
    "lenName": 16,
    "lenType": 16,
    "lenVar": 40
   },
   "kernels_config": {
    "python": {
     "delete_cmd_postfix": "",
     "delete_cmd_prefix": "del ",
     "library": "var_list.py",
     "varRefreshCmd": "print(var_dic_list())"
    },
    "r": {
     "delete_cmd_postfix": ") ",
     "delete_cmd_prefix": "rm(",
     "library": "var_list.r",
     "varRefreshCmd": "cat(var_dic_list()) "
    }
   },
   "types_to_exclude": [
    "module",
    "function",
    "builtin_function_or_method",
    "instance",
    "_Feature"
   ],
   "window_display": false
  }
 },
 "nbformat": 4,
 "nbformat_minor": 5
}
