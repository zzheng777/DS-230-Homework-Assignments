{
 "cells": [
  {
   "cell_type": "markdown",
   "id": "b84d10a4",
   "metadata": {},
   "source": [
    "# DS 230: Homework 2\n",
    "\n",
    "### Due: 2/11/2022\n",
    "\n",
    "You are encouraged to work on this with other students, but the final submitted document should be wholly your own.  That means no electronic sharing of files, code, or information.  Everything should be originally typed by *you*.\n",
    "\n",
    "---"
   ]
  },
  {
   "cell_type": "markdown",
   "id": "be33f10b",
   "metadata": {},
   "source": [
    "### Question 1\n",
    "\n",
    "The folder `us_baby_names` contains 141 years of baby first names for the United States.  Names are recorded since the year 1880 that met the following criteria:\n",
    "\n",
    "- Individuals with the name had a valid Social Security Number\n",
    "- At least 5 individuals had the same name\n",
    "\n",
    "For each name, the sex and count of names was recorded.  \n",
    "\n",
    "Read in this data as a dictionary of lists, where each column is a separate list.  The data should be a single variable (a dictionary) with the following structure:\n",
    "\n",
    "```python\n",
    "names = { \n",
    "    \"year\" = [1880, 1880, ...],\n",
    "    \"name\" = [\"John\", \"Mary\", ...],\n",
    "    \"sex\"  = [\"M\", \"F\", ...],\n",
    "    \"count\"= [232, 908, ...]\n",
    "}\n",
    "```"
   ]
  },
  {
   "cell_type": "code",
   "execution_count": 1,
   "id": "ff53092c",
   "metadata": {},
   "outputs": [],
   "source": [
    "import csv\n",
    "import glob\n",
    "import os\n",
    "import re\n",
    "import pandas as pd"
   ]
  },
  {
   "cell_type": "code",
   "execution_count": null,
   "id": "8b399838-864f-41c5-83ad-3c3f65cc3a29",
   "metadata": {},
   "outputs": [],
   "source": [
    "os.chdir('names')"
   ]
  },
  {
   "cell_type": "code",
   "execution_count": null,
   "id": "51919e85-12b0-44c1-bfa9-87fa1d277c1e",
   "metadata": {},
   "outputs": [],
   "source": [
    "files = os.listdir()"
   ]
  },
  {
   "cell_type": "code",
   "execution_count": null,
   "id": "598a0957-ad26-4a23-bc0f-8c470bd3417f",
   "metadata": {},
   "outputs": [],
   "source": [
    "my_Dol = {}\n",
    "my_Dol[\"Year\"]=[]\n",
    "my_Dol[\"Name\"]=[]\n",
    "my_Dol[\"Sex\"]=[]\n",
    "my_Dol[\"Count\"]=[]\n",
    "for f in files:\n",
    "    if f[-4:] == \".txt\":\n",
    "        #print(f)\n",
    "        # DO SOMETHING\n",
    "        fid = open(f,'r')\n",
    "        my_csv = csv.reader(fid)\n",
    "        for i in my_csv:\n",
    "                my_Dol[\"Name\"].append(i[0].strip(\" '\"))\n",
    "                my_Dol[\"Sex\"].append(i[1].strip(\" '\"))\n",
    "                my_Dol[\"Count\"].append(i[2].strip(\" '\"))\n",
    "    else:\n",
    "        print(\"This is garbage: \", f)\n",
    "        "
   ]
  },
  {
   "cell_type": "code",
   "execution_count": null,
   "id": "801de157-5c97-48f6-aaad-33108c7e0776",
   "metadata": {},
   "outputs": [],
   "source": [
    "my_Dol"
   ]
  },
  {
   "cell_type": "code",
   "execution_count": 7,
   "id": "198cd670",
   "metadata": {},
   "outputs": [],
   "source": [
    "def my_DoL_parser():\n",
    "    my_Dol = {}\n",
    "    counter = 0\n",
    "    counter2= 0\n",
    "    path = os.path.join(os.getcwd(),\"names\")\n",
    "    path2=os.listdir(path)\n",
    "    path2.remove('.ipynb_checkpoints')\n",
    "    path2.remove('NationalReadMe.pdf')\n",
    "    my_Dol[\"Year\"]=[]\n",
    "    my_Dol[\"Name\"]=[]\n",
    "    my_Dol[\"Sex\"]=[]\n",
    "    my_Dol[\"Count\"]=[]\n",
    "    for file in path2:\n",
    "        my_Dol[\"Year\"].append(file.strip(\"yob.txt\"))\n",
    "                   \n",
    "        with open(\"names/\"+file,'r') as people:\n",
    "            my_csv = csv.reader(people)\n",
    "            for i in my_csv:\n",
    "                my_Dol[\"Name\"].append(i[0].strip(\" '\"))\n",
    "                my_Dol[\"Sex\"].append(i[1].strip(\" '\"))\n",
    "                my_Dol[\"Count\"].append(i[2].strip(\" '\"))\n",
    "\n",
    "          \n",
    "           \n",
    "\n",
    "                    \n",
    "    return my_Dol"
   ]
  },
  {
   "cell_type": "code",
   "execution_count": 8,
   "id": "ca338df8",
   "metadata": {},
   "outputs": [],
   "source": [
    "d=my_DoL_parser()\n",
    "\n",
    "\n"
   ]
  },
  {
   "cell_type": "raw",
   "id": "d9c796d7-23bf-4206-aa3e-6a54b30bc6b6",
   "metadata": {},
   "source": [
    "path = os.path.join(os.getcwd(),\"names\")\n",
    "path2=os.listdir(path)\n",
    "path2.remove('.ipynb_checkpoints')\n",
    "path2.remove('NationalReadMe.pdf')\n",
    "\n"
   ]
  },
  {
   "cell_type": "raw",
   "id": "72f04533-c153-44b3-b63e-1dc1adf76e0a",
   "metadata": {},
   "source": [
    "my_Dol = {}\n",
    "counter = 0\n",
    "counter2= 0\n",
    "path = os.path.join(os.getcwd(),\"names\")\n",
    "path2=os.listdir(path)\n",
    "path2.remove('.ipynb_checkpoints')\n",
    "path2.remove('NationalReadMe.pdf')\n",
    "my_Dol[\"Year\"]=[]\n",
    "for file in path2:\n",
    "        my_Dol[\"Year\"].append(file.strip(\"yob.txt\"))\n",
    "\n",
    "                \n",
    "       \n",
    "        \n"
   ]
  },
  {
   "cell_type": "markdown",
   "id": "4168d85f",
   "metadata": {},
   "source": [
    "### Question 2\n",
    "\n",
    "Convert your dictionary of lists made above into a pandas data frame."
   ]
  },
  {
   "cell_type": "code",
   "execution_count": 5,
   "id": "61cb7f1b",
   "metadata": {},
   "outputs": [],
   "source": [
    "df=pd.DataFrame.from_dict(d,orient='index').transpose()"
   ]
  },
  {
   "cell_type": "code",
   "execution_count": 6,
   "id": "1c5b0f10",
   "metadata": {},
   "outputs": [
    {
     "data": {
      "text/html": [
       "<div>\n",
       "<style scoped>\n",
       "    .dataframe tbody tr th:only-of-type {\n",
       "        vertical-align: middle;\n",
       "    }\n",
       "\n",
       "    .dataframe tbody tr th {\n",
       "        vertical-align: top;\n",
       "    }\n",
       "\n",
       "    .dataframe thead th {\n",
       "        text-align: right;\n",
       "    }\n",
       "</style>\n",
       "<table border=\"1\" class=\"dataframe\">\n",
       "  <thead>\n",
       "    <tr style=\"text-align: right;\">\n",
       "      <th></th>\n",
       "      <th>Year</th>\n",
       "      <th>Name</th>\n",
       "      <th>Sex</th>\n",
       "      <th>Count</th>\n",
       "    </tr>\n",
       "  </thead>\n",
       "  <tbody>\n",
       "    <tr>\n",
       "      <th>0</th>\n",
       "      <td>2000</td>\n",
       "      <td>Emily</td>\n",
       "      <td>F</td>\n",
       "      <td>25957</td>\n",
       "    </tr>\n",
       "    <tr>\n",
       "      <th>1</th>\n",
       "      <td>2014</td>\n",
       "      <td>Hannah</td>\n",
       "      <td>F</td>\n",
       "      <td>23084</td>\n",
       "    </tr>\n",
       "    <tr>\n",
       "      <th>2</th>\n",
       "      <td>1938</td>\n",
       "      <td>Madison</td>\n",
       "      <td>F</td>\n",
       "      <td>19968</td>\n",
       "    </tr>\n",
       "    <tr>\n",
       "      <th>3</th>\n",
       "      <td>1910</td>\n",
       "      <td>Ashley</td>\n",
       "      <td>F</td>\n",
       "      <td>17997</td>\n",
       "    </tr>\n",
       "    <tr>\n",
       "      <th>4</th>\n",
       "      <td>1904</td>\n",
       "      <td>Sarah</td>\n",
       "      <td>F</td>\n",
       "      <td>17706</td>\n",
       "    </tr>\n",
       "    <tr>\n",
       "      <th>...</th>\n",
       "      <td>...</td>\n",
       "      <td>...</td>\n",
       "      <td>...</td>\n",
       "      <td>...</td>\n",
       "    </tr>\n",
       "    <tr>\n",
       "      <th>2020858</th>\n",
       "      <td>None</td>\n",
       "      <td>Zyheem</td>\n",
       "      <td>M</td>\n",
       "      <td>5</td>\n",
       "    </tr>\n",
       "    <tr>\n",
       "      <th>2020859</th>\n",
       "      <td>None</td>\n",
       "      <td>Zykel</td>\n",
       "      <td>M</td>\n",
       "      <td>5</td>\n",
       "    </tr>\n",
       "    <tr>\n",
       "      <th>2020860</th>\n",
       "      <td>None</td>\n",
       "      <td>Zyking</td>\n",
       "      <td>M</td>\n",
       "      <td>5</td>\n",
       "    </tr>\n",
       "    <tr>\n",
       "      <th>2020861</th>\n",
       "      <td>None</td>\n",
       "      <td>Zyn</td>\n",
       "      <td>M</td>\n",
       "      <td>5</td>\n",
       "    </tr>\n",
       "    <tr>\n",
       "      <th>2020862</th>\n",
       "      <td>None</td>\n",
       "      <td>Zyran</td>\n",
       "      <td>M</td>\n",
       "      <td>5</td>\n",
       "    </tr>\n",
       "  </tbody>\n",
       "</table>\n",
       "<p>2020863 rows × 4 columns</p>\n",
       "</div>"
      ],
      "text/plain": [
       "         Year     Name Sex  Count\n",
       "0        2000    Emily   F  25957\n",
       "1        2014   Hannah   F  23084\n",
       "2        1938  Madison   F  19968\n",
       "3        1910   Ashley   F  17997\n",
       "4        1904    Sarah   F  17706\n",
       "...       ...      ...  ..    ...\n",
       "2020858  None   Zyheem   M      5\n",
       "2020859  None    Zykel   M      5\n",
       "2020860  None   Zyking   M      5\n",
       "2020861  None      Zyn   M      5\n",
       "2020862  None    Zyran   M      5\n",
       "\n",
       "[2020863 rows x 4 columns]"
      ]
     },
     "execution_count": 6,
     "metadata": {},
     "output_type": "execute_result"
    }
   ],
   "source": [
    "df"
   ]
  },
  {
   "cell_type": "code",
   "execution_count": null,
   "id": "7cf6484f",
   "metadata": {},
   "outputs": [],
   "source": []
  },
  {
   "cell_type": "markdown",
   "id": "454006aa",
   "metadata": {},
   "source": [
    "### Question 3\n",
    "\n",
    "Using the data frame made above, tell me \"*somethhing interesting*\" about this data set.  Your choice!"
   ]
  },
  {
   "cell_type": "markdown",
   "id": "23e3e29c-100b-4ad1-a3af-28433f51dd7b",
   "metadata": {},
   "source": [
    "The names with 5 counts, does not have Years attached to the names !!!! ????"
   ]
  },
  {
   "cell_type": "code",
   "execution_count": 12,
   "id": "36ff1a6f",
   "metadata": {},
   "outputs": [
    {
     "data": {
      "text/plain": [
       "F    1192115\n",
       "M     828748\n",
       "Name: Sex, dtype: int64"
      ]
     },
     "execution_count": 12,
     "metadata": {},
     "output_type": "execute_result"
    }
   ],
   "source": [
    "df[\"Sex\"].value_counts()"
   ]
  },
  {
   "cell_type": "markdown",
   "id": "8ca3dc5c-1be7-4d9e-95bc-1e9db6e7a0e4",
   "metadata": {},
   "source": [
    "Wow there so many more women names than there are female names. "
   ]
  }
 ],
 "metadata": {
  "kernelspec": {
   "display_name": "Python 3 (ipykernel)",
   "language": "python",
   "name": "python3"
  },
  "language_info": {
   "codemirror_mode": {
    "name": "ipython",
    "version": 3
   },
   "file_extension": ".py",
   "mimetype": "text/x-python",
   "name": "python",
   "nbconvert_exporter": "python",
   "pygments_lexer": "ipython3",
   "version": "3.9.7"
  },
  "varInspector": {
   "cols": {
    "lenName": 16,
    "lenType": 16,
    "lenVar": 40
   },
   "kernels_config": {
    "python": {
     "delete_cmd_postfix": "",
     "delete_cmd_prefix": "del ",
     "library": "var_list.py",
     "varRefreshCmd": "print(var_dic_list())"
    },
    "r": {
     "delete_cmd_postfix": ") ",
     "delete_cmd_prefix": "rm(",
     "library": "var_list.r",
     "varRefreshCmd": "cat(var_dic_list()) "
    }
   },
   "types_to_exclude": [
    "module",
    "function",
    "builtin_function_or_method",
    "instance",
    "_Feature"
   ],
   "window_display": false
  }
 },
 "nbformat": 4,
 "nbformat_minor": 5
}
